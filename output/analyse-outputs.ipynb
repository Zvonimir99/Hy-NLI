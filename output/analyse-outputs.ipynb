{
 "metadata": {
  "language_info": {
   "codemirror_mode": {
    "name": "ipython",
    "version": 3
   },
   "file_extension": ".py",
   "mimetype": "text/x-python",
   "name": "python",
   "nbconvert_exporter": "python",
   "pygments_lexer": "ipython3",
   "version": "3.7.10"
  },
  "orig_nbformat": 2,
  "kernelspec": {
   "name": "python3710jvsc74a57bd081cfb9c11872635c5f9cdb5043a7a6e1273bdf09f9bced445237db3159c114b6",
   "display_name": "Python 3.7.10 64-bit ('tensorflow': conda)"
  }
 },
 "nbformat": 4,
 "nbformat_minor": 2,
 "cells": [
  {
   "cell_type": "code",
   "execution_count": null,
   "metadata": {},
   "outputs": [],
   "source": [
    "# analyse outputs"
   ]
  },
  {
   "cell_type": "code",
   "execution_count": 28,
   "metadata": {},
   "outputs": [],
   "source": [
    "import pandas as pd"
   ]
  },
  {
   "cell_type": "code",
   "execution_count": null,
   "metadata": {},
   "outputs": [],
   "source": []
  },
  {
   "cell_type": "code",
   "execution_count": 7,
   "metadata": {},
   "outputs": [],
   "source": [
    "bert_base_path = './bert/base/bert-base.csv'"
   ]
  },
  {
   "cell_type": "code",
   "execution_count": 11,
   "metadata": {},
   "outputs": [],
   "source": [
    "df_bert_base = pd.read_csv(bert_base_path)"
   ]
  },
  {
   "cell_type": "code",
   "execution_count": 12,
   "metadata": {},
   "outputs": [
    {
     "output_type": "execute_result",
     "data": {
      "text/plain": [
       "      true  prediction\n",
       "0        2           2\n",
       "1        2           2\n",
       "2        2           2\n",
       "3        0           0\n",
       "4        2           2\n",
       "...    ...         ...\n",
       "4901     2           2\n",
       "4902     2           2\n",
       "4903     2           2\n",
       "4904     2           2\n",
       "4905     2           2\n",
       "\n",
       "[4906 rows x 2 columns]"
      ],
      "text/html": "<div>\n<style scoped>\n    .dataframe tbody tr th:only-of-type {\n        vertical-align: middle;\n    }\n\n    .dataframe tbody tr th {\n        vertical-align: top;\n    }\n\n    .dataframe thead th {\n        text-align: right;\n    }\n</style>\n<table border=\"1\" class=\"dataframe\">\n  <thead>\n    <tr style=\"text-align: right;\">\n      <th></th>\n      <th>true</th>\n      <th>prediction</th>\n    </tr>\n  </thead>\n  <tbody>\n    <tr>\n      <th>0</th>\n      <td>2</td>\n      <td>2</td>\n    </tr>\n    <tr>\n      <th>1</th>\n      <td>2</td>\n      <td>2</td>\n    </tr>\n    <tr>\n      <th>2</th>\n      <td>2</td>\n      <td>2</td>\n    </tr>\n    <tr>\n      <th>3</th>\n      <td>0</td>\n      <td>0</td>\n    </tr>\n    <tr>\n      <th>4</th>\n      <td>2</td>\n      <td>2</td>\n    </tr>\n    <tr>\n      <th>...</th>\n      <td>...</td>\n      <td>...</td>\n    </tr>\n    <tr>\n      <th>4901</th>\n      <td>2</td>\n      <td>2</td>\n    </tr>\n    <tr>\n      <th>4902</th>\n      <td>2</td>\n      <td>2</td>\n    </tr>\n    <tr>\n      <th>4903</th>\n      <td>2</td>\n      <td>2</td>\n    </tr>\n    <tr>\n      <th>4904</th>\n      <td>2</td>\n      <td>2</td>\n    </tr>\n    <tr>\n      <th>4905</th>\n      <td>2</td>\n      <td>2</td>\n    </tr>\n  </tbody>\n</table>\n<p>4906 rows × 2 columns</p>\n</div>"
     },
     "metadata": {},
     "execution_count": 12
    }
   ],
   "source": [
    "df_bert_base"
   ]
  },
  {
   "cell_type": "code",
   "execution_count": 13,
   "metadata": {},
   "outputs": [
    {
     "output_type": "execute_result",
     "data": {
      "text/plain": [
       "      true  prediction\n",
       "9        2           0\n",
       "10       2           1\n",
       "11       2           0\n",
       "19       1           2\n",
       "39       0           2\n",
       "...    ...         ...\n",
       "4764     1           2\n",
       "4771     1           0\n",
       "4772     2           0\n",
       "4774     2           0\n",
       "4779     1           0\n",
       "\n",
       "[717 rows x 2 columns]"
      ],
      "text/html": "<div>\n<style scoped>\n    .dataframe tbody tr th:only-of-type {\n        vertical-align: middle;\n    }\n\n    .dataframe tbody tr th {\n        vertical-align: top;\n    }\n\n    .dataframe thead th {\n        text-align: right;\n    }\n</style>\n<table border=\"1\" class=\"dataframe\">\n  <thead>\n    <tr style=\"text-align: right;\">\n      <th></th>\n      <th>true</th>\n      <th>prediction</th>\n    </tr>\n  </thead>\n  <tbody>\n    <tr>\n      <th>9</th>\n      <td>2</td>\n      <td>0</td>\n    </tr>\n    <tr>\n      <th>10</th>\n      <td>2</td>\n      <td>1</td>\n    </tr>\n    <tr>\n      <th>11</th>\n      <td>2</td>\n      <td>0</td>\n    </tr>\n    <tr>\n      <th>19</th>\n      <td>1</td>\n      <td>2</td>\n    </tr>\n    <tr>\n      <th>39</th>\n      <td>0</td>\n      <td>2</td>\n    </tr>\n    <tr>\n      <th>...</th>\n      <td>...</td>\n      <td>...</td>\n    </tr>\n    <tr>\n      <th>4764</th>\n      <td>1</td>\n      <td>2</td>\n    </tr>\n    <tr>\n      <th>4771</th>\n      <td>1</td>\n      <td>0</td>\n    </tr>\n    <tr>\n      <th>4772</th>\n      <td>2</td>\n      <td>0</td>\n    </tr>\n    <tr>\n      <th>4774</th>\n      <td>2</td>\n      <td>0</td>\n    </tr>\n    <tr>\n      <th>4779</th>\n      <td>1</td>\n      <td>0</td>\n    </tr>\n  </tbody>\n</table>\n<p>717 rows × 2 columns</p>\n</div>"
     },
     "metadata": {},
     "execution_count": 13
    }
   ],
   "source": [
    "df_bert_base[df_bert_base['true'] != df_bert_base['prediction']]"
   ]
  },
  {
   "cell_type": "code",
   "execution_count": 15,
   "metadata": {},
   "outputs": [
    {
     "output_type": "execute_result",
     "data": {
      "text/plain": [
       "0.8538524256013045"
      ]
     },
     "metadata": {},
     "execution_count": 15
    }
   ],
   "source": [
    "1- 717/4906"
   ]
  },
  {
   "cell_type": "code",
   "execution_count": 2,
   "metadata": {},
   "outputs": [],
   "source": [
    "def sick2csv(path):\n",
    "    data = []\n",
    "    with open(path, \"r\") as f:\n",
    "        next(f)\n",
    "        for line in f.readlines():\n",
    "            a = line.split(\"\\t\")\n",
    "            pair_id = int(a[0])\n",
    "            ph = a[1].split(\" [SEP] \")\n",
    "            p = ph[0]\n",
    "            h = ph[1]\n",
    "            l = a[2][0]\n",
    "            l = l.replace('0', 'entailment')\n",
    "            l = l.replace('1', 'contradiction')\n",
    "            l = l.replace('2', 'neutral')\n",
    "            data.append((pair_id, p, h, l))\n",
    "        columns = ('id', \"premise\", \"hypothesis\", \"label\")\n",
    "    return pd.DataFrame(data, columns=columns)"
   ]
  },
  {
   "cell_type": "code",
   "execution_count": null,
   "metadata": {},
   "outputs": [],
   "source": []
  },
  {
   "cell_type": "code",
   "execution_count": 11,
   "metadata": {},
   "outputs": [],
   "source": [
    "def csv2gkr(df, output_path):\n",
    "    sep = '[SEP]'\n",
    "    tab = '\\t'\n",
    "    with open(output_path, \"w\") as f:\n",
    "\n",
    "        for index, row in df.iterrows():\n",
    "            pid = row['id']\n",
    "            p = row['premise']\n",
    "            h = row['hypothesis']\n",
    "            l = row['label']\n",
    "\n",
    "            l = l.replace('entailment', 'E')\n",
    "            l = l.replace('contradiction', 'C')\n",
    "            l = l.replace('neutral', 'N')\n",
    "\n",
    "            sentence_ab = p + tab + h\n",
    "            line = str(pid) + 'a' + tab + sentence_ab + tab + l + '\\n'\n",
    "\n",
    "            f.write(line)\n",
    "    f.close()"
   ]
  },
  {
   "cell_type": "code",
   "execution_count": 12,
   "metadata": {},
   "outputs": [],
   "source": [
    "path = '../dl_component/rho0/train_rho0-0-final.csv'"
   ]
  },
  {
   "cell_type": "code",
   "execution_count": 13,
   "metadata": {},
   "outputs": [],
   "source": [
    "df = sick2csv(path)"
   ]
  },
  {
   "cell_type": "code",
   "execution_count": 32,
   "metadata": {},
   "outputs": [],
   "source": [
    "output_path = './train.csv' \n",
    "csv2gkr(df, output_path)"
   ]
  },
  {
   "cell_type": "code",
   "execution_count": 38,
   "metadata": {},
   "outputs": [],
   "source": [
    "path_base = '../dl_component/rho'\n",
    "output_path_base = '../gkr4nli/data/rho'\n",
    "\n",
    "for rho in range(0,120,20):\n",
    "    r = str(rho)\n",
    "    for experiment in range(5):\n",
    "        e = str(experiment)\n",
    "\n",
    "        path = path_base + r + '/train_rho' + r + '-' + e + '-final.csv'\n",
    "\n",
    "        output_path = output_path_base + r + '/train_rho' + r + '-' + e + '.csv'\n",
    "\n",
    "        df = sick2csv(path)\n",
    "\n",
    "        csv2gkr(df, output_path)\n",
    "\n"
   ]
  },
  {
   "cell_type": "code",
   "execution_count": 88,
   "metadata": {},
   "outputs": [],
   "source": [
    "path = '../dl_component/SICK_trial_and_train.txt'\n",
    "output_path = '../gkr4nli/data/SICK_trial_and_train.txt'\n",
    "\n",
    "# path = '../dl_component/sick_test.txt'\n",
    "# output_path = '../gkr4nli/data/sick_test.txt'\n",
    "\n",
    "# path = '../dl_component/sick_test_transform.txt'\n",
    "# output_path = '../gkr4nli/data/sick_test_transform.txt'\n",
    "\n",
    "df = sick2csv(path)\n",
    "\n",
    "csv2gkr(df, output_path)"
   ]
  },
  {
   "cell_type": "code",
   "execution_count": null,
   "metadata": {},
   "outputs": [],
   "source": []
  },
  {
   "cell_type": "code",
   "execution_count": null,
   "metadata": {},
   "outputs": [],
   "source": []
  },
  {
   "cell_type": "code",
   "execution_count": null,
   "metadata": {},
   "outputs": [],
   "source": [
    "# analyse results from gkr"
   ]
  },
  {
   "cell_type": "code",
   "execution_count": 30,
   "metadata": {},
   "outputs": [],
   "source": [
    "path = '/home/adam/anu/comp4450/hy-nli/Hy-NLI/gkr4nli/data/untransformed/sick_test_with_semantic_features-all.csv'\n",
    "df = pd.read_csv(path, sep='\\t')"
   ]
  },
  {
   "cell_type": "code",
   "execution_count": 53,
   "metadata": {},
   "outputs": [
    {
     "output_type": "execute_result",
     "data": {
      "text/plain": [
       "         ID                                          SentenceA  \\\n",
       "0        6a  There is no boy playing outdoors and there is ...   \n",
       "1        7a  A group of boys in a yard is playing and a man...   \n",
       "2        8a  A group of children is playing in the house an...   \n",
       "3       10a  A brown dog is attacking another animal in fro...   \n",
       "4       11a  A brown dog is attacking another animal in fro...   \n",
       "...     ...                                                ...   \n",
       "4837  9991a    The young girl is blowing a bubble that is huge   \n",
       "4838  9992a  A dog in a colored coat is running across the ...   \n",
       "4839  9994a                 A boy is happily playing the piano   \n",
       "4840  9995a  The girl, who is little, is combing her hair i...   \n",
       "4841  9996a  A man is in a parking lot and is playing tenni...   \n",
       "\n",
       "                                              SentenceB GoldLabel  \\\n",
       "0     A group of kids is playing in a yard and an ol...         N   \n",
       "1     The young boys are playing outdoors and the ma...         N   \n",
       "2     The young boys are playing outdoors and the ma...         N   \n",
       "3     A brown dog is attacking another animal in fro...         E   \n",
       "4     A brown dog is helping another animal in front...         N   \n",
       "...                                                 ...       ...   \n",
       "4837         There is no girl in pink twirling a ribbon         N   \n",
       "4838               The flute is being played by one man         N   \n",
       "4839       A white bird is landing swiftly in the water         N   \n",
       "4840  Two people wearing helmets are driving over th...         N   \n",
       "4841  The snowboarder is leaping fearlessly over whi...         N   \n",
       "\n",
       "      ComplexCtxs  contraFlag  Veridical  Antiveridical  Averidical  Equals  \\\n",
       "0               1           0          1              0           0       0   \n",
       "1               0           0          1              0           0       1   \n",
       "2               1           0          1              0           0       1   \n",
       "3               0           0          1              0           0       1   \n",
       "4               0           0          1              0           0       1   \n",
       "...           ...         ...        ...            ...         ...     ...   \n",
       "4837            1           0          1              1           0       0   \n",
       "4838            1           0          1              0           0       0   \n",
       "4839            1           0          1              0           0       1   \n",
       "4840            1           0          1              0           0       0   \n",
       "4841            1           0          1              0           0       0   \n",
       "\n",
       "      Superclass  Subclass  Disjoint GKR4NLILabel  \n",
       "0              0         0         0            C  \n",
       "1              1         0         0            N  \n",
       "2              1         0         0            C  \n",
       "3              0         1         0            E  \n",
       "4              0         0         0            E  \n",
       "...          ...       ...       ...          ...  \n",
       "4837           0         1         0            N  \n",
       "4838           0         0         0            N  \n",
       "4839           0         0         0            N  \n",
       "4840           0         0         0            N  \n",
       "4841           0         0         0            N  \n",
       "\n",
       "[4842 rows x 14 columns]"
      ],
      "text/html": "<div>\n<style scoped>\n    .dataframe tbody tr th:only-of-type {\n        vertical-align: middle;\n    }\n\n    .dataframe tbody tr th {\n        vertical-align: top;\n    }\n\n    .dataframe thead th {\n        text-align: right;\n    }\n</style>\n<table border=\"1\" class=\"dataframe\">\n  <thead>\n    <tr style=\"text-align: right;\">\n      <th></th>\n      <th>ID</th>\n      <th>SentenceA</th>\n      <th>SentenceB</th>\n      <th>GoldLabel</th>\n      <th>ComplexCtxs</th>\n      <th>contraFlag</th>\n      <th>Veridical</th>\n      <th>Antiveridical</th>\n      <th>Averidical</th>\n      <th>Equals</th>\n      <th>Superclass</th>\n      <th>Subclass</th>\n      <th>Disjoint</th>\n      <th>GKR4NLILabel</th>\n    </tr>\n  </thead>\n  <tbody>\n    <tr>\n      <th>0</th>\n      <td>6a</td>\n      <td>There is no boy playing outdoors and there is ...</td>\n      <td>A group of kids is playing in a yard and an ol...</td>\n      <td>N</td>\n      <td>1</td>\n      <td>0</td>\n      <td>1</td>\n      <td>0</td>\n      <td>0</td>\n      <td>0</td>\n      <td>0</td>\n      <td>0</td>\n      <td>0</td>\n      <td>C</td>\n    </tr>\n    <tr>\n      <th>1</th>\n      <td>7a</td>\n      <td>A group of boys in a yard is playing and a man...</td>\n      <td>The young boys are playing outdoors and the ma...</td>\n      <td>N</td>\n      <td>0</td>\n      <td>0</td>\n      <td>1</td>\n      <td>0</td>\n      <td>0</td>\n      <td>1</td>\n      <td>1</td>\n      <td>0</td>\n      <td>0</td>\n      <td>N</td>\n    </tr>\n    <tr>\n      <th>2</th>\n      <td>8a</td>\n      <td>A group of children is playing in the house an...</td>\n      <td>The young boys are playing outdoors and the ma...</td>\n      <td>N</td>\n      <td>1</td>\n      <td>0</td>\n      <td>1</td>\n      <td>0</td>\n      <td>0</td>\n      <td>1</td>\n      <td>1</td>\n      <td>0</td>\n      <td>0</td>\n      <td>C</td>\n    </tr>\n    <tr>\n      <th>3</th>\n      <td>10a</td>\n      <td>A brown dog is attacking another animal in fro...</td>\n      <td>A brown dog is attacking another animal in fro...</td>\n      <td>E</td>\n      <td>0</td>\n      <td>0</td>\n      <td>1</td>\n      <td>0</td>\n      <td>0</td>\n      <td>1</td>\n      <td>0</td>\n      <td>1</td>\n      <td>0</td>\n      <td>E</td>\n    </tr>\n    <tr>\n      <th>4</th>\n      <td>11a</td>\n      <td>A brown dog is attacking another animal in fro...</td>\n      <td>A brown dog is helping another animal in front...</td>\n      <td>N</td>\n      <td>0</td>\n      <td>0</td>\n      <td>1</td>\n      <td>0</td>\n      <td>0</td>\n      <td>1</td>\n      <td>0</td>\n      <td>0</td>\n      <td>0</td>\n      <td>E</td>\n    </tr>\n    <tr>\n      <th>...</th>\n      <td>...</td>\n      <td>...</td>\n      <td>...</td>\n      <td>...</td>\n      <td>...</td>\n      <td>...</td>\n      <td>...</td>\n      <td>...</td>\n      <td>...</td>\n      <td>...</td>\n      <td>...</td>\n      <td>...</td>\n      <td>...</td>\n      <td>...</td>\n    </tr>\n    <tr>\n      <th>4837</th>\n      <td>9991a</td>\n      <td>The young girl is blowing a bubble that is huge</td>\n      <td>There is no girl in pink twirling a ribbon</td>\n      <td>N</td>\n      <td>1</td>\n      <td>0</td>\n      <td>1</td>\n      <td>1</td>\n      <td>0</td>\n      <td>0</td>\n      <td>0</td>\n      <td>1</td>\n      <td>0</td>\n      <td>N</td>\n    </tr>\n    <tr>\n      <th>4838</th>\n      <td>9992a</td>\n      <td>A dog in a colored coat is running across the ...</td>\n      <td>The flute is being played by one man</td>\n      <td>N</td>\n      <td>1</td>\n      <td>0</td>\n      <td>1</td>\n      <td>0</td>\n      <td>0</td>\n      <td>0</td>\n      <td>0</td>\n      <td>0</td>\n      <td>0</td>\n      <td>N</td>\n    </tr>\n    <tr>\n      <th>4839</th>\n      <td>9994a</td>\n      <td>A boy is happily playing the piano</td>\n      <td>A white bird is landing swiftly in the water</td>\n      <td>N</td>\n      <td>1</td>\n      <td>0</td>\n      <td>1</td>\n      <td>0</td>\n      <td>0</td>\n      <td>1</td>\n      <td>0</td>\n      <td>0</td>\n      <td>0</td>\n      <td>N</td>\n    </tr>\n    <tr>\n      <th>4840</th>\n      <td>9995a</td>\n      <td>The girl, who is little, is combing her hair i...</td>\n      <td>Two people wearing helmets are driving over th...</td>\n      <td>N</td>\n      <td>1</td>\n      <td>0</td>\n      <td>1</td>\n      <td>0</td>\n      <td>0</td>\n      <td>0</td>\n      <td>0</td>\n      <td>0</td>\n      <td>0</td>\n      <td>N</td>\n    </tr>\n    <tr>\n      <th>4841</th>\n      <td>9996a</td>\n      <td>A man is in a parking lot and is playing tenni...</td>\n      <td>The snowboarder is leaping fearlessly over whi...</td>\n      <td>N</td>\n      <td>1</td>\n      <td>0</td>\n      <td>1</td>\n      <td>0</td>\n      <td>0</td>\n      <td>0</td>\n      <td>0</td>\n      <td>0</td>\n      <td>0</td>\n      <td>N</td>\n    </tr>\n  </tbody>\n</table>\n<p>4842 rows × 14 columns</p>\n</div>"
     },
     "metadata": {},
     "execution_count": 53
    }
   ],
   "source": []
  },
  {
   "cell_type": "code",
   "execution_count": 38,
   "metadata": {},
   "outputs": [],
   "source": [
    "ids = df['ID']"
   ]
  },
  {
   "cell_type": "code",
   "execution_count": 31,
   "metadata": {},
   "outputs": [
    {
     "output_type": "execute_result",
     "data": {
      "text/plain": [
       "4842"
      ]
     },
     "metadata": {},
     "execution_count": 31
    }
   ],
   "source": [
    "len(df)"
   ]
  },
  {
   "cell_type": "code",
   "execution_count": 32,
   "metadata": {},
   "outputs": [],
   "source": [
    "df_correct = df[df['GoldLabel'] == df['GKR4NLILabel']]\n"
   ]
  },
  {
   "cell_type": "code",
   "execution_count": 33,
   "metadata": {},
   "outputs": [
    {
     "output_type": "execute_result",
     "data": {
      "text/plain": [
       "3449"
      ]
     },
     "metadata": {},
     "execution_count": 33
    }
   ],
   "source": [
    "len(df_correct)"
   ]
  },
  {
   "cell_type": "code",
   "execution_count": null,
   "metadata": {},
   "outputs": [],
   "source": []
  },
  {
   "cell_type": "code",
   "execution_count": null,
   "metadata": {},
   "outputs": [],
   "source": []
  },
  {
   "cell_type": "code",
   "execution_count": null,
   "metadata": {},
   "outputs": [],
   "source": []
  },
  {
   "cell_type": "code",
   "execution_count": 49,
   "metadata": {},
   "outputs": [],
   "source": []
  },
  {
   "cell_type": "code",
   "execution_count": 56,
   "metadata": {},
   "outputs": [
    {
     "output_type": "execute_result",
     "data": {
      "text/plain": [
       "         id                                                  a  \\\n",
       "0        6a  There is no boy playing outdoors and there is ...   \n",
       "1        7a  A group of boys in a yard is playing and a man...   \n",
       "2        8a  A group of children is playing in the house an...   \n",
       "3       10a  A brown dog is attacking another animal in fro...   \n",
       "4       11a  A brown dog is attacking another animal in fro...   \n",
       "...     ...                                                ...   \n",
       "4901  9991a    The young girl is blowing a bubble that is huge   \n",
       "4902  9992a  A dog in a colored coat is running across the ...   \n",
       "4903  9994a                 A boy is happily playing the piano   \n",
       "4904  9995a  The girl, who is little, is combing her hair i...   \n",
       "4905  9996a  A man is in a parking lot and is playing tenni...   \n",
       "\n",
       "                                                      b  l  \n",
       "0     A group of kids is playing in a yard and an ol...  N  \n",
       "1     The young boys are playing outdoors and the ma...  N  \n",
       "2     The young boys are playing outdoors and the ma...  N  \n",
       "3     A brown dog is attacking another animal in fro...  E  \n",
       "4     A brown dog is helping another animal in front...  N  \n",
       "...                                                 ... ..  \n",
       "4901         There is no girl in pink twirling a ribbon  N  \n",
       "4902               The flute is being played by one man  N  \n",
       "4903       A white bird is landing swiftly in the water  N  \n",
       "4904  Two people wearing helmets are driving over th...  N  \n",
       "4905  The snowboarder is leaping fearlessly over whi...  N  \n",
       "\n",
       "[4906 rows x 4 columns]"
      ],
      "text/html": "<div>\n<style scoped>\n    .dataframe tbody tr th:only-of-type {\n        vertical-align: middle;\n    }\n\n    .dataframe tbody tr th {\n        vertical-align: top;\n    }\n\n    .dataframe thead th {\n        text-align: right;\n    }\n</style>\n<table border=\"1\" class=\"dataframe\">\n  <thead>\n    <tr style=\"text-align: right;\">\n      <th></th>\n      <th>id</th>\n      <th>a</th>\n      <th>b</th>\n      <th>l</th>\n    </tr>\n  </thead>\n  <tbody>\n    <tr>\n      <th>0</th>\n      <td>6a</td>\n      <td>There is no boy playing outdoors and there is ...</td>\n      <td>A group of kids is playing in a yard and an ol...</td>\n      <td>N</td>\n    </tr>\n    <tr>\n      <th>1</th>\n      <td>7a</td>\n      <td>A group of boys in a yard is playing and a man...</td>\n      <td>The young boys are playing outdoors and the ma...</td>\n      <td>N</td>\n    </tr>\n    <tr>\n      <th>2</th>\n      <td>8a</td>\n      <td>A group of children is playing in the house an...</td>\n      <td>The young boys are playing outdoors and the ma...</td>\n      <td>N</td>\n    </tr>\n    <tr>\n      <th>3</th>\n      <td>10a</td>\n      <td>A brown dog is attacking another animal in fro...</td>\n      <td>A brown dog is attacking another animal in fro...</td>\n      <td>E</td>\n    </tr>\n    <tr>\n      <th>4</th>\n      <td>11a</td>\n      <td>A brown dog is attacking another animal in fro...</td>\n      <td>A brown dog is helping another animal in front...</td>\n      <td>N</td>\n    </tr>\n    <tr>\n      <th>...</th>\n      <td>...</td>\n      <td>...</td>\n      <td>...</td>\n      <td>...</td>\n    </tr>\n    <tr>\n      <th>4901</th>\n      <td>9991a</td>\n      <td>The young girl is blowing a bubble that is huge</td>\n      <td>There is no girl in pink twirling a ribbon</td>\n      <td>N</td>\n    </tr>\n    <tr>\n      <th>4902</th>\n      <td>9992a</td>\n      <td>A dog in a colored coat is running across the ...</td>\n      <td>The flute is being played by one man</td>\n      <td>N</td>\n    </tr>\n    <tr>\n      <th>4903</th>\n      <td>9994a</td>\n      <td>A boy is happily playing the piano</td>\n      <td>A white bird is landing swiftly in the water</td>\n      <td>N</td>\n    </tr>\n    <tr>\n      <th>4904</th>\n      <td>9995a</td>\n      <td>The girl, who is little, is combing her hair i...</td>\n      <td>Two people wearing helmets are driving over th...</td>\n      <td>N</td>\n    </tr>\n    <tr>\n      <th>4905</th>\n      <td>9996a</td>\n      <td>A man is in a parking lot and is playing tenni...</td>\n      <td>The snowboarder is leaping fearlessly over whi...</td>\n      <td>N</td>\n    </tr>\n  </tbody>\n</table>\n<p>4906 rows × 4 columns</p>\n</div>"
     },
     "metadata": {},
     "execution_count": 56
    }
   ],
   "source": [
    "df_og = pd.read_csv('/home/adam/anu/comp4450/hy-nli/Hy-NLI/gkr4nli/data/sick_test.txt', sep='\\t', names=['id','a', 'b', 'l'])\n",
    "df_og"
   ]
  },
  {
   "cell_type": "code",
   "execution_count": 57,
   "metadata": {},
   "outputs": [],
   "source": [
    "og_id = df_og['id']"
   ]
  },
  {
   "cell_type": "code",
   "execution_count": 58,
   "metadata": {},
   "outputs": [
    {
     "output_type": "execute_result",
     "data": {
      "text/plain": [
       "0          6a\n",
       "1          7a\n",
       "2          8a\n",
       "3         10a\n",
       "4         11a\n",
       "        ...  \n",
       "4901    9991a\n",
       "4902    9992a\n",
       "4903    9994a\n",
       "4904    9995a\n",
       "4905    9996a\n",
       "Name: id, Length: 4906, dtype: object"
      ]
     },
     "metadata": {},
     "execution_count": 58
    }
   ],
   "source": [
    "og_id"
   ]
  },
  {
   "cell_type": "code",
   "execution_count": 42,
   "metadata": {},
   "outputs": [],
   "source": [
    "# og_ids = []\n",
    "# for oid in og_id:\n",
    "#     og_ids.append(str(oid)+'a')"
   ]
  },
  {
   "cell_type": "code",
   "execution_count": 44,
   "metadata": {},
   "outputs": [],
   "source": []
  },
  {
   "cell_type": "code",
   "execution_count": 60,
   "metadata": {},
   "outputs": [],
   "source": [
    "ids = set(ids)"
   ]
  },
  {
   "cell_type": "code",
   "execution_count": 65,
   "metadata": {},
   "outputs": [],
   "source": [
    "#"
   ]
  },
  {
   "cell_type": "code",
   "execution_count": null,
   "metadata": {},
   "outputs": [],
   "source": []
  },
  {
   "cell_type": "code",
   "execution_count": 77,
   "metadata": {
    "tags": []
   },
   "outputs": [],
   "source": [
    "missing = []\n",
    "missing_i = []\n",
    "for index, value in og_id.iteritems():\n",
    "    if value not in ids:\n",
    "        missing.append(value)\n",
    "        missing_i.append(index)"
   ]
  },
  {
   "cell_type": "code",
   "execution_count": 82,
   "metadata": {},
   "outputs": [],
   "source": [
    "df_missing = df_og.iloc[missing_i]"
   ]
  },
  {
   "cell_type": "code",
   "execution_count": 83,
   "metadata": {},
   "outputs": [
    {
     "output_type": "execute_result",
     "data": {
      "text/plain": [
       "         id                                                  a  \\\n",
       "61     111a        Two teams are competing in a football match   \n",
       "62     114a                  A player is running with the ball   \n",
       "175    324a                A man is pointing at a silver sedan   \n",
       "177    326a                         A man is pointing at a car   \n",
       "274    523a  A woman who is wearing a pink boa is riding a ...   \n",
       "...     ...                                                ...   \n",
       "4790  9779a                              One fish is swimming    \n",
       "4820  9832a    A toddler is playing with a plastic scooter toy   \n",
       "4884  9959a  A dog is near a ball colored in red, which is ...   \n",
       "4886  9962a                      One woman is peeling a potato   \n",
       "4896  9979a  A person is wearing a straw hat and smoking a ...   \n",
       "\n",
       "                                                      b  l  \n",
       "61      Football is being played by two competing teams  E  \n",
       "62      Football is being played by two competing teams  N  \n",
       "175                          A man is pointing at a car  E  \n",
       "177   A man is in a parking lot and is playing tenni...  N  \n",
       "274   Pink bellbottoms and a pink scarf aren't to be...  N  \n",
       "...                                                 ... ..  \n",
       "4790                           The man is slicing bread  N  \n",
       "4820      A woman in blue has a yellow ball in the mitt  N  \n",
       "4884                          A man is playing a guitar  N  \n",
       "4886         A yellow flower is being clung to by a bee  N  \n",
       "4896              A dog is near the red ball in the air  N  \n",
       "\n",
       "[64 rows x 4 columns]"
      ],
      "text/html": "<div>\n<style scoped>\n    .dataframe tbody tr th:only-of-type {\n        vertical-align: middle;\n    }\n\n    .dataframe tbody tr th {\n        vertical-align: top;\n    }\n\n    .dataframe thead th {\n        text-align: right;\n    }\n</style>\n<table border=\"1\" class=\"dataframe\">\n  <thead>\n    <tr style=\"text-align: right;\">\n      <th></th>\n      <th>id</th>\n      <th>a</th>\n      <th>b</th>\n      <th>l</th>\n    </tr>\n  </thead>\n  <tbody>\n    <tr>\n      <th>61</th>\n      <td>111a</td>\n      <td>Two teams are competing in a football match</td>\n      <td>Football is being played by two competing teams</td>\n      <td>E</td>\n    </tr>\n    <tr>\n      <th>62</th>\n      <td>114a</td>\n      <td>A player is running with the ball</td>\n      <td>Football is being played by two competing teams</td>\n      <td>N</td>\n    </tr>\n    <tr>\n      <th>175</th>\n      <td>324a</td>\n      <td>A man is pointing at a silver sedan</td>\n      <td>A man is pointing at a car</td>\n      <td>E</td>\n    </tr>\n    <tr>\n      <th>177</th>\n      <td>326a</td>\n      <td>A man is pointing at a car</td>\n      <td>A man is in a parking lot and is playing tenni...</td>\n      <td>N</td>\n    </tr>\n    <tr>\n      <th>274</th>\n      <td>523a</td>\n      <td>A woman who is wearing a pink boa is riding a ...</td>\n      <td>Pink bellbottoms and a pink scarf aren't to be...</td>\n      <td>N</td>\n    </tr>\n    <tr>\n      <th>...</th>\n      <td>...</td>\n      <td>...</td>\n      <td>...</td>\n      <td>...</td>\n    </tr>\n    <tr>\n      <th>4790</th>\n      <td>9779a</td>\n      <td>One fish is swimming</td>\n      <td>The man is slicing bread</td>\n      <td>N</td>\n    </tr>\n    <tr>\n      <th>4820</th>\n      <td>9832a</td>\n      <td>A toddler is playing with a plastic scooter toy</td>\n      <td>A woman in blue has a yellow ball in the mitt</td>\n      <td>N</td>\n    </tr>\n    <tr>\n      <th>4884</th>\n      <td>9959a</td>\n      <td>A dog is near a ball colored in red, which is ...</td>\n      <td>A man is playing a guitar</td>\n      <td>N</td>\n    </tr>\n    <tr>\n      <th>4886</th>\n      <td>9962a</td>\n      <td>One woman is peeling a potato</td>\n      <td>A yellow flower is being clung to by a bee</td>\n      <td>N</td>\n    </tr>\n    <tr>\n      <th>4896</th>\n      <td>9979a</td>\n      <td>A person is wearing a straw hat and smoking a ...</td>\n      <td>A dog is near the red ball in the air</td>\n      <td>N</td>\n    </tr>\n  </tbody>\n</table>\n<p>64 rows × 4 columns</p>\n</div>"
     },
     "metadata": {},
     "execution_count": 83
    }
   ],
   "source": [
    "df_missing"
   ]
  },
  {
   "cell_type": "code",
   "execution_count": 84,
   "metadata": {},
   "outputs": [],
   "source": [
    "def csv2gkr_m(df, output_path):\n",
    "    tab = '\\t'\n",
    "    with open(output_path, \"w\") as f:\n",
    "\n",
    "        for index, row in df.iterrows():\n",
    "            pid = row['id']\n",
    "            p = row['a']\n",
    "            h = row['b']\n",
    "            l = row['l']\n",
    "\n",
    "            l = l.replace('entailment', 'E')\n",
    "            l = l.replace('contradiction', 'C')\n",
    "            l = l.replace('neutral', 'N')\n",
    "\n",
    "            sentence_ab = p + tab + h\n",
    "            line = pid + tab + sentence_ab + tab + l + '\\n'\n",
    "\n",
    "            f.write(line)\n",
    "    f.close()"
   ]
  },
  {
   "cell_type": "code",
   "execution_count": 89,
   "metadata": {},
   "outputs": [],
   "source": [
    "output_path = '/home/adam/anu/comp4450/hy-nli/Hy-NLI/gkr4nli/data/sick_test-missing.txt'"
   ]
  },
  {
   "cell_type": "code",
   "execution_count": 87,
   "metadata": {},
   "outputs": [],
   "source": [
    "csv2gkr_m(df_missing, output_path)"
   ]
  },
  {
   "cell_type": "code",
   "execution_count": null,
   "metadata": {},
   "outputs": [],
   "source": []
  },
  {
   "cell_type": "code",
   "execution_count": 90,
   "metadata": {},
   "outputs": [
    {
     "output_type": "execute_result",
     "data": {
      "text/plain": [
       "61       111a\n",
       "62       114a\n",
       "175      324a\n",
       "177      326a\n",
       "274      523a\n",
       "        ...  \n",
       "4790    9779a\n",
       "4820    9832a\n",
       "4884    9959a\n",
       "4886    9962a\n",
       "4896    9979a\n",
       "Name: id, Length: 64, dtype: object"
      ]
     },
     "metadata": {},
     "execution_count": 90
    }
   ],
   "source": [
    "df_missing['id']"
   ]
  },
  {
   "cell_type": "code",
   "execution_count": 92,
   "metadata": {},
   "outputs": [],
   "source": [
    "# get grk4nli results"
   ]
  },
  {
   "cell_type": "code",
   "execution_count": 96,
   "metadata": {},
   "outputs": [],
   "source": [
    "df_untransform = pd.read_csv('/home/adam/anu/comp4450/hy-nli/Hy-NLI/gkr4nli/data/untransformed/sick_test_with_semantic_features-all.csv', sep='\\t')"
   ]
  },
  {
   "cell_type": "code",
   "execution_count": 97,
   "metadata": {},
   "outputs": [
    {
     "output_type": "execute_result",
     "data": {
      "text/plain": [
       "         ID                                          SentenceA  \\\n",
       "0        6a  There is no boy playing outdoors and there is ...   \n",
       "1        7a  A group of boys in a yard is playing and a man...   \n",
       "2        8a  A group of children is playing in the house an...   \n",
       "3       10a  A brown dog is attacking another animal in fro...   \n",
       "4       11a  A brown dog is attacking another animal in fro...   \n",
       "...     ...                                                ...   \n",
       "4837  9991a    The young girl is blowing a bubble that is huge   \n",
       "4838  9992a  A dog in a colored coat is running across the ...   \n",
       "4839  9994a                 A boy is happily playing the piano   \n",
       "4840  9995a  The girl, who is little, is combing her hair i...   \n",
       "4841  9996a  A man is in a parking lot and is playing tenni...   \n",
       "\n",
       "                                              SentenceB GoldLabel  \\\n",
       "0     A group of kids is playing in a yard and an ol...         N   \n",
       "1     The young boys are playing outdoors and the ma...         N   \n",
       "2     The young boys are playing outdoors and the ma...         N   \n",
       "3     A brown dog is attacking another animal in fro...         E   \n",
       "4     A brown dog is helping another animal in front...         N   \n",
       "...                                                 ...       ...   \n",
       "4837         There is no girl in pink twirling a ribbon         N   \n",
       "4838               The flute is being played by one man         N   \n",
       "4839       A white bird is landing swiftly in the water         N   \n",
       "4840  Two people wearing helmets are driving over th...         N   \n",
       "4841  The snowboarder is leaping fearlessly over whi...         N   \n",
       "\n",
       "      ComplexCtxs  contraFlag  Veridical  Antiveridical  Averidical  Equals  \\\n",
       "0               1           0          1              0           0       0   \n",
       "1               0           0          1              0           0       1   \n",
       "2               1           0          1              0           0       1   \n",
       "3               0           0          1              0           0       1   \n",
       "4               0           0          1              0           0       1   \n",
       "...           ...         ...        ...            ...         ...     ...   \n",
       "4837            1           0          1              1           0       0   \n",
       "4838            1           0          1              0           0       0   \n",
       "4839            1           0          1              0           0       1   \n",
       "4840            1           0          1              0           0       0   \n",
       "4841            1           0          1              0           0       0   \n",
       "\n",
       "      Superclass  Subclass  Disjoint GKR4NLILabel  \n",
       "0              0         0         0            C  \n",
       "1              1         0         0            N  \n",
       "2              1         0         0            C  \n",
       "3              0         1         0            E  \n",
       "4              0         0         0            E  \n",
       "...          ...       ...       ...          ...  \n",
       "4837           0         1         0            N  \n",
       "4838           0         0         0            N  \n",
       "4839           0         0         0            N  \n",
       "4840           0         0         0            N  \n",
       "4841           0         0         0            N  \n",
       "\n",
       "[4842 rows x 14 columns]"
      ],
      "text/html": "<div>\n<style scoped>\n    .dataframe tbody tr th:only-of-type {\n        vertical-align: middle;\n    }\n\n    .dataframe tbody tr th {\n        vertical-align: top;\n    }\n\n    .dataframe thead th {\n        text-align: right;\n    }\n</style>\n<table border=\"1\" class=\"dataframe\">\n  <thead>\n    <tr style=\"text-align: right;\">\n      <th></th>\n      <th>ID</th>\n      <th>SentenceA</th>\n      <th>SentenceB</th>\n      <th>GoldLabel</th>\n      <th>ComplexCtxs</th>\n      <th>contraFlag</th>\n      <th>Veridical</th>\n      <th>Antiveridical</th>\n      <th>Averidical</th>\n      <th>Equals</th>\n      <th>Superclass</th>\n      <th>Subclass</th>\n      <th>Disjoint</th>\n      <th>GKR4NLILabel</th>\n    </tr>\n  </thead>\n  <tbody>\n    <tr>\n      <th>0</th>\n      <td>6a</td>\n      <td>There is no boy playing outdoors and there is ...</td>\n      <td>A group of kids is playing in a yard and an ol...</td>\n      <td>N</td>\n      <td>1</td>\n      <td>0</td>\n      <td>1</td>\n      <td>0</td>\n      <td>0</td>\n      <td>0</td>\n      <td>0</td>\n      <td>0</td>\n      <td>0</td>\n      <td>C</td>\n    </tr>\n    <tr>\n      <th>1</th>\n      <td>7a</td>\n      <td>A group of boys in a yard is playing and a man...</td>\n      <td>The young boys are playing outdoors and the ma...</td>\n      <td>N</td>\n      <td>0</td>\n      <td>0</td>\n      <td>1</td>\n      <td>0</td>\n      <td>0</td>\n      <td>1</td>\n      <td>1</td>\n      <td>0</td>\n      <td>0</td>\n      <td>N</td>\n    </tr>\n    <tr>\n      <th>2</th>\n      <td>8a</td>\n      <td>A group of children is playing in the house an...</td>\n      <td>The young boys are playing outdoors and the ma...</td>\n      <td>N</td>\n      <td>1</td>\n      <td>0</td>\n      <td>1</td>\n      <td>0</td>\n      <td>0</td>\n      <td>1</td>\n      <td>1</td>\n      <td>0</td>\n      <td>0</td>\n      <td>C</td>\n    </tr>\n    <tr>\n      <th>3</th>\n      <td>10a</td>\n      <td>A brown dog is attacking another animal in fro...</td>\n      <td>A brown dog is attacking another animal in fro...</td>\n      <td>E</td>\n      <td>0</td>\n      <td>0</td>\n      <td>1</td>\n      <td>0</td>\n      <td>0</td>\n      <td>1</td>\n      <td>0</td>\n      <td>1</td>\n      <td>0</td>\n      <td>E</td>\n    </tr>\n    <tr>\n      <th>4</th>\n      <td>11a</td>\n      <td>A brown dog is attacking another animal in fro...</td>\n      <td>A brown dog is helping another animal in front...</td>\n      <td>N</td>\n      <td>0</td>\n      <td>0</td>\n      <td>1</td>\n      <td>0</td>\n      <td>0</td>\n      <td>1</td>\n      <td>0</td>\n      <td>0</td>\n      <td>0</td>\n      <td>E</td>\n    </tr>\n    <tr>\n      <th>...</th>\n      <td>...</td>\n      <td>...</td>\n      <td>...</td>\n      <td>...</td>\n      <td>...</td>\n      <td>...</td>\n      <td>...</td>\n      <td>...</td>\n      <td>...</td>\n      <td>...</td>\n      <td>...</td>\n      <td>...</td>\n      <td>...</td>\n      <td>...</td>\n    </tr>\n    <tr>\n      <th>4837</th>\n      <td>9991a</td>\n      <td>The young girl is blowing a bubble that is huge</td>\n      <td>There is no girl in pink twirling a ribbon</td>\n      <td>N</td>\n      <td>1</td>\n      <td>0</td>\n      <td>1</td>\n      <td>1</td>\n      <td>0</td>\n      <td>0</td>\n      <td>0</td>\n      <td>1</td>\n      <td>0</td>\n      <td>N</td>\n    </tr>\n    <tr>\n      <th>4838</th>\n      <td>9992a</td>\n      <td>A dog in a colored coat is running across the ...</td>\n      <td>The flute is being played by one man</td>\n      <td>N</td>\n      <td>1</td>\n      <td>0</td>\n      <td>1</td>\n      <td>0</td>\n      <td>0</td>\n      <td>0</td>\n      <td>0</td>\n      <td>0</td>\n      <td>0</td>\n      <td>N</td>\n    </tr>\n    <tr>\n      <th>4839</th>\n      <td>9994a</td>\n      <td>A boy is happily playing the piano</td>\n      <td>A white bird is landing swiftly in the water</td>\n      <td>N</td>\n      <td>1</td>\n      <td>0</td>\n      <td>1</td>\n      <td>0</td>\n      <td>0</td>\n      <td>1</td>\n      <td>0</td>\n      <td>0</td>\n      <td>0</td>\n      <td>N</td>\n    </tr>\n    <tr>\n      <th>4840</th>\n      <td>9995a</td>\n      <td>The girl, who is little, is combing her hair i...</td>\n      <td>Two people wearing helmets are driving over th...</td>\n      <td>N</td>\n      <td>1</td>\n      <td>0</td>\n      <td>1</td>\n      <td>0</td>\n      <td>0</td>\n      <td>0</td>\n      <td>0</td>\n      <td>0</td>\n      <td>0</td>\n      <td>N</td>\n    </tr>\n    <tr>\n      <th>4841</th>\n      <td>9996a</td>\n      <td>A man is in a parking lot and is playing tenni...</td>\n      <td>The snowboarder is leaping fearlessly over whi...</td>\n      <td>N</td>\n      <td>1</td>\n      <td>0</td>\n      <td>1</td>\n      <td>0</td>\n      <td>0</td>\n      <td>0</td>\n      <td>0</td>\n      <td>0</td>\n      <td>0</td>\n      <td>N</td>\n    </tr>\n  </tbody>\n</table>\n<p>4842 rows × 14 columns</p>\n</div>"
     },
     "metadata": {},
     "execution_count": 97
    }
   ],
   "source": [
    "df_untransform"
   ]
  },
  {
   "cell_type": "code",
   "execution_count": 100,
   "metadata": {},
   "outputs": [
    {
     "output_type": "execute_result",
     "data": {
      "text/plain": [
       "Index(['ID', 'SentenceA', 'SentenceB', 'GoldLabel', 'ComplexCtxs',\n",
       "       'contraFlag', 'Veridical', 'Antiveridical', 'Averidical', 'Equals',\n",
       "       'Superclass', 'Subclass', 'Disjoint', 'GKR4NLILabel'],\n",
       "      dtype='object')"
      ]
     },
     "metadata": {},
     "execution_count": 100
    }
   ],
   "source": [
    "df_untransform.columns"
   ]
  },
  {
   "cell_type": "code",
   "execution_count": 110,
   "metadata": {},
   "outputs": [],
   "source": [
    "def gkr_results(df, output_path):\n",
    "    tab = '\\t'\n",
    "    with open(output_path, \"w\") as f:\n",
    "\n",
    "        heading = 'pair_ID' + tab + 'GoldLabel' + tab + 'complexCtxs' + tab + 'contraCost' + tab + 'VER' + tab + 'ANTIVER' + tab + 'AVER' + tab + 'EQUALS' + tab\n",
    "        heading += 'SUPER' + tab +\t'SUB' + tab +'DIS' + tab + 'GKR4NLILabel' + '\\n'\n",
    "        f.write(heading)\n",
    "\n",
    "        cols = ['ID', 'GoldLabel', 'ComplexCtxs', 'contraFlag', 'Veridical', 'Antiveridical', 'Averidical', 'Equals', 'Superclass', 'Subclass', 'Disjoint', 'GKR4NLILabel']\n",
    "        df_trim = df[cols]\n",
    "\n",
    "        for index, row in df_trim.iterrows():\n",
    "            line = ''\n",
    "            for name, value in row.iteritems():\n",
    "                line += str(value) + tab \n",
    "\n",
    "            line += '\\n'\n",
    "\n",
    "            f.write(line)\n",
    "    f.close()"
   ]
  },
  {
   "cell_type": "code",
   "execution_count": 111,
   "metadata": {},
   "outputs": [],
   "source": [
    "# untransform\n",
    "output_path_untransform = '/home/adam/anu/comp4450/hy-nli/Hy-NLI/gkr4nli/data/untransformed/sick_test_untransform-results.csv'\n",
    "gkr_results(df_untransform, output_path_untransform)"
   ]
  },
  {
   "cell_type": "code",
   "execution_count": 105,
   "metadata": {},
   "outputs": [],
   "source": [
    "#"
   ]
  },
  {
   "cell_type": "code",
   "execution_count": null,
   "metadata": {},
   "outputs": [],
   "source": []
  },
  {
   "cell_type": "code",
   "execution_count": null,
   "metadata": {},
   "outputs": [],
   "source": [
    "# clean untransformed data in bert results - remove the rows that were mising in gkr"
   ]
  },
  {
   "cell_type": "code",
   "execution_count": 121,
   "metadata": {},
   "outputs": [],
   "source": [
    "df_og = pd.read_csv('/home/adam/anu/comp4450/hy-nli/Hy-NLI/gkr4nli/data/sick_test.txt', sep='\\t', names=['id','a', 'b', 'l'])\n",
    "og_id = df_og['id']\n",
    "missing = set()\n",
    "for index, value in og_id.iteritems():\n",
    "    if value not in ids:\n",
    "        missing.add(value)"
   ]
  },
  {
   "cell_type": "code",
   "execution_count": 123,
   "metadata": {},
   "outputs": [],
   "source": [
    "#"
   ]
  },
  {
   "cell_type": "code",
   "execution_count": null,
   "metadata": {},
   "outputs": [],
   "source": []
  },
  {
   "cell_type": "code",
   "execution_count": 134,
   "metadata": {},
   "outputs": [],
   "source": [
    "def bert_results_trim(df, missing, output_path):\n",
    "    tab = '\\t'\n",
    "    with open(output_path, \"w\") as f:\n",
    "        \n",
    "        heading = 'pair_ID' + tab + 'BertLabel' + '\\n'\n",
    "        f.write(heading)\n",
    "\n",
    "        for index, row in df.iterrows():\n",
    "            pid = row['pair_ID']\n",
    "            bl = row['BertLabel']\n",
    "\n",
    "            if pid not in missing:\n",
    "                line = pid + tab + str(bl) + '\\n'\n",
    "                f.write(line)\n",
    "\n",
    "    f.close()"
   ]
  },
  {
   "cell_type": "code",
   "execution_count": 135,
   "metadata": {},
   "outputs": [],
   "source": [
    "input_path_base = '/home/adam/anu/comp4450/hy-nli/Hy-NLI/output/bert/untransformed/results-untransformed-rho0-0.csv'\n",
    "output_path_base = '/home/adam/anu/comp4450/hy-nli/Hy-NLI/output/bert/results/untransform/results-untransformed-rho0-0.csv'"
   ]
  },
  {
   "cell_type": "code",
   "execution_count": 136,
   "metadata": {},
   "outputs": [],
   "source": [
    "df = pd.read_csv(input_path_base, sep='\\t')"
   ]
  },
  {
   "cell_type": "code",
   "execution_count": 137,
   "metadata": {},
   "outputs": [],
   "source": [
    "bert_results_trim(df, missing, output_path_base)"
   ]
  },
  {
   "cell_type": "code",
   "execution_count": null,
   "metadata": {},
   "outputs": [],
   "source": []
  }
 ]
}